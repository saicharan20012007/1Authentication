{
  "nbformat": 4,
  "nbformat_minor": 0,
  "metadata": {
    "colab": {
      "provenance": [],
      "authorship_tag": "ABX9TyPMhjmo8OLK4wjcxEPGfeJ5",
      "include_colab_link": true
    },
    "kernelspec": {
      "name": "python3",
      "display_name": "Python 3"
    },
    "language_info": {
      "name": "python"
    }
  },
  "cells": [
    {
      "cell_type": "markdown",
      "metadata": {
        "id": "view-in-github",
        "colab_type": "text"
      },
      "source": [
        "<a href=\"https://colab.research.google.com/github/saicharan20012007/1Authentication/blob/main/Copy_of_Algorithms.ipynb\" target=\"_parent\"><img src=\"https://colab.research.google.com/assets/colab-badge.svg\" alt=\"Open In Colab\"/></a>"
      ]
    },
    {
      "cell_type": "markdown",
      "source": [
        "**Binary Search**"
      ],
      "metadata": {
        "id": "Zo5zSPpYeY5w"
      }
    },
    {
      "cell_type": "code",
      "execution_count": null,
      "metadata": {
        "colab": {
          "base_uri": "https://localhost:8080/"
        },
        "id": "VbglFRu8eVeE",
        "outputId": "6dd1ad43-d5b9-457e-bc72-72009beb2d31"
      },
      "outputs": [
        {
          "output_type": "stream",
          "name": "stdout",
          "text": [
            "Target 5 found at index 4\n"
          ]
        }
      ],
      "source": [
        "def binary_search(arr, target):\n",
        "    left, right = 0, len(arr) - 1\n",
        "\n",
        "    while left <= right:\n",
        "        mid = left + (right - left) // 2  # Calculate the middle index\n",
        "\n",
        "        # Check if the middle element is equal to the target\n",
        "        if arr[mid] == target:\n",
        "            return mid  # Target found, return its index\n",
        "        elif arr[mid] < target:\n",
        "            left = mid + 1  # Target is in the right half\n",
        "        else:\n",
        "            right = mid - 1  # Target is in the left half\n",
        "\n",
        "    return -1  # Target not found in the array\n",
        "\n",
        "# Example usage:\n",
        "arr = [1, 2, 3, 4, 5, 6, 7, 8, 9]\n",
        "target = 5\n",
        "result = binary_search(arr, target)\n",
        "\n",
        "if result != -1:\n",
        "    print(f\"Target {target} found at index {result}\")\n",
        "else:\n",
        "    print(f\"Target {target} not found in the array\")\n"
      ]
    },
    {
      "cell_type": "markdown",
      "source": [
        "**Two Pointer Method**"
      ],
      "metadata": {
        "id": "DxOLRAcuerJ3"
      }
    },
    {
      "cell_type": "code",
      "source": [
        "def two_sum(nums, target):\n",
        "    left, right = 0, len(nums) - 1\n",
        "\n",
        "    while left < right:\n",
        "        current_sum = nums[left] + nums[right]\n",
        "\n",
        "        if current_sum == target:\n",
        "            return [nums[left], nums[right]]\n",
        "        elif current_sum < target:\n",
        "            left += 1\n",
        "        else:\n",
        "            right -= 1\n",
        "\n",
        "    return None  # No such pair found\n",
        "\n",
        "# Example usage:\n",
        "nums = [2, 7, 11, 15]\n",
        "target = 9\n",
        "result = two_sum(nums, target)\n",
        "if result:\n",
        "    print(f\"Pair with sum {target}: {result[0]} and {result[1]}\")\n",
        "else:\n",
        "    print(\"No such pair found\")\n"
      ],
      "metadata": {
        "colab": {
          "base_uri": "https://localhost:8080/"
        },
        "id": "EH-vt2Wdenne",
        "outputId": "f9ead1cb-b5f3-4435-e599-7bc3341adb56"
      },
      "execution_count": null,
      "outputs": [
        {
          "output_type": "stream",
          "name": "stdout",
          "text": [
            "Pair with sum 9: 2 and 7\n"
          ]
        }
      ]
    },
    {
      "cell_type": "markdown",
      "source": [
        "**Sliding Window with diff sizes**"
      ],
      "metadata": {
        "id": "XFkucFZbe5RF"
      }
    },
    {
      "cell_type": "code",
      "source": [
        "INT_MAX = float(\"inf\")\n",
        "\n",
        "def min_sub_array_len(k, nums):\n",
        "    if not nums:\n",
        "        return 0\n",
        "    n = len(nums)\n",
        "    ans = INT_MAX\n",
        "    left = 0\n",
        "    sum = 0\n",
        "    for i in range(n):\n",
        "        sum += nums[i]\n",
        "        while sum >= k:\n",
        "            ans = min(ans, i + 1 - left)\n",
        "            sum -= nums[left]\n",
        "            left = left + 1\n",
        "    if ans != INT_MAX:\n",
        "        print(ans)\n",
        "    else:\n",
        "        print(\"0\")\n",
        "    return\n",
        "\n",
        "n, k = map(int, input().split())\n",
        "nums = list(map(int, input().split()))\n",
        "min_sub_array_len(k, nums)"
      ],
      "metadata": {
        "id": "2gNiSsdSe9eX"
      },
      "execution_count": null,
      "outputs": []
    },
    {
      "cell_type": "markdown",
      "source": [
        "Prefix Sum Method"
      ],
      "metadata": {
        "id": "eHEdGPZkf8XC"
      }
    },
    {
      "cell_type": "code",
      "source": [
        "def prefix_sum_method(arr, n):\n",
        "  prefix_sum_array = [0] * n\n"
      ],
      "metadata": {
        "id": "ftTheWICgu-d"
      },
      "execution_count": null,
      "outputs": []
    },
    {
      "cell_type": "markdown",
      "source": [
        "\n",
        "\n",
        "---\n",
        "\n",
        "\n",
        "\n",
        "---\n",
        "\n",
        "\n",
        "\n",
        "---\n",
        "\n"
      ],
      "metadata": {
        "id": "XT_Vu9kghT7q"
      }
    },
    {
      "cell_type": "markdown",
      "source": [
        "**SORTING ALGORITHMS**"
      ],
      "metadata": {
        "id": "kun7jJy3hqpb"
      }
    },
    {
      "cell_type": "markdown",
      "source": [
        "**Sorting:** Arranging/re-arranging the given data in an ordered sequence based on certain defined criteria"
      ],
      "metadata": {
        "id": "-NVVPNrFh4Jr"
      }
    },
    {
      "cell_type": "code",
      "source": [],
      "metadata": {
        "id": "0daH2B17helr"
      },
      "execution_count": null,
      "outputs": []
    }
  ]
}